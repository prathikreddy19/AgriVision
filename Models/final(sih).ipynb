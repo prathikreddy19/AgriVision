{
  "nbformat": 4,
  "nbformat_minor": 0,
  "metadata": {
    "colab": {
      "provenance": []
    },
    "kernelspec": {
      "name": "python3",
      "display_name": "Python 3"
    },
    "language_info": {
      "name": "python"
    }
  },
  "cells": [
    {
      "cell_type": "code",
      "source": [
        "from google.colab import drive\n",
        "drive.mount('/content/drive')"
      ],
      "metadata": {
        "colab": {
          "base_uri": "https://localhost:8080/"
        },
        "id": "7vy0zThWvChB",
        "outputId": "f571db03-b127-46d5-8a17-76bfc4491f1d"
      },
      "execution_count": 3,
      "outputs": [
        {
          "output_type": "stream",
          "name": "stdout",
          "text": [
            "Mounted at /content/drive\n"
          ]
        }
      ]
    },
    {
      "cell_type": "code",
      "metadata": {
        "colab": {
          "base_uri": "https://localhost:8080/"
        },
        "id": "089d855c",
        "outputId": "fdf87e89-2d50-4bab-f21b-59bc2347ddc3"
      },
      "source": [
        "%pip install optuna"
      ],
      "execution_count": 6,
      "outputs": [
        {
          "output_type": "stream",
          "name": "stdout",
          "text": [
            "Collecting optuna\n",
            "  Downloading optuna-4.5.0-py3-none-any.whl.metadata (17 kB)\n",
            "Requirement already satisfied: alembic>=1.5.0 in /usr/local/lib/python3.12/dist-packages (from optuna) (1.16.5)\n",
            "Collecting colorlog (from optuna)\n",
            "  Downloading colorlog-6.9.0-py3-none-any.whl.metadata (10 kB)\n",
            "Requirement already satisfied: numpy in /usr/local/lib/python3.12/dist-packages (from optuna) (2.0.2)\n",
            "Requirement already satisfied: packaging>=20.0 in /usr/local/lib/python3.12/dist-packages (from optuna) (25.0)\n",
            "Requirement already satisfied: sqlalchemy>=1.4.2 in /usr/local/lib/python3.12/dist-packages (from optuna) (2.0.43)\n",
            "Requirement already satisfied: tqdm in /usr/local/lib/python3.12/dist-packages (from optuna) (4.67.1)\n",
            "Requirement already satisfied: PyYAML in /usr/local/lib/python3.12/dist-packages (from optuna) (6.0.2)\n",
            "Requirement already satisfied: Mako in /usr/local/lib/python3.12/dist-packages (from alembic>=1.5.0->optuna) (1.3.10)\n",
            "Requirement already satisfied: typing-extensions>=4.12 in /usr/local/lib/python3.12/dist-packages (from alembic>=1.5.0->optuna) (4.15.0)\n",
            "Requirement already satisfied: greenlet>=1 in /usr/local/lib/python3.12/dist-packages (from sqlalchemy>=1.4.2->optuna) (3.2.4)\n",
            "Requirement already satisfied: MarkupSafe>=0.9.2 in /usr/local/lib/python3.12/dist-packages (from Mako->alembic>=1.5.0->optuna) (3.0.2)\n",
            "Downloading optuna-4.5.0-py3-none-any.whl (400 kB)\n",
            "\u001b[2K   \u001b[90m━━━━━━━━━━━━━━━━━━━━━━━━━━━━━━━━━━━━━━━━\u001b[0m \u001b[32m400.9/400.9 kB\u001b[0m \u001b[31m9.1 MB/s\u001b[0m eta \u001b[36m0:00:00\u001b[0m\n",
            "\u001b[?25hDownloading colorlog-6.9.0-py3-none-any.whl (11 kB)\n",
            "Installing collected packages: colorlog, optuna\n",
            "Successfully installed colorlog-6.9.0 optuna-4.5.0\n"
          ]
        }
      ]
    },
    {
      "cell_type": "code",
      "execution_count": 13,
      "metadata": {
        "colab": {
          "base_uri": "https://localhost:8080/"
        },
        "id": "TkVw-OXVt9MB",
        "outputId": "57d2d1e8-90cf-43dd-cd05-fad51c6449c2"
      },
      "outputs": [
        {
          "output_type": "stream",
          "name": "stdout",
          "text": [
            "Training until validation scores don't improve for 50 rounds\n",
            "Early stopping, best iteration is:\n",
            "[508]\ttraining's rmse: 0.0791679\tvalid_1's rmse: 0.242524\n",
            "✅ RMSE: 0.243\n",
            "✅ MAE: 0.181\n",
            "✅ R²: 0.763\n"
          ]
        }
      ],
      "source": [
        "# 📌 Step 1: Imports\n",
        "import pandas as pd\n",
        "import lightgbm as lgb\n",
        "from sklearn.model_selection import train_test_split\n",
        "from sklearn.metrics import mean_squared_error, mean_absolute_error, r2_score\n",
        "import numpy as np\n",
        "import joblib\n",
        "\n",
        "# 📌 Step 2: Load dataset\n",
        "df = pd.read_csv(\"/content/drive/My Drive/Sih_cleaned.csv\")\n",
        "\n",
        "# Drop State_Name since only one state\n",
        "df = df.drop(columns=[\"State_Name\", \"year\"])  # Year removed as per your choice\n",
        "\n",
        "# 📌 Step 3: Define features and target\n",
        "target = \"Yield_qha\"\n",
        "X = df.drop(columns=[target])\n",
        "y = df[target]\n",
        "\n",
        "# 📌 Step 4: One-hot encode categorical features\n",
        "X = pd.get_dummies(X, columns=[\"District_Name\", \"Crop\", \"Season\"], drop_first=True)\n",
        "\n",
        "# 📌 Step 5: Train-Test Split\n",
        "X_train, X_test, y_train, y_test = train_test_split(\n",
        "    X, y, test_size=0.2, random_state=42\n",
        ")\n",
        "\n",
        "# 📌 Step 6: Train LightGBM model\n",
        "train_data = lgb.Dataset(X_train, label=y_train)\n",
        "test_data = lgb.Dataset(X_test, label=y_test)\n",
        "\n",
        "params = {\n",
        "    \"objective\": \"regression\",\n",
        "    \"metric\": \"rmse\",\n",
        "    \"boosting_type\": \"gbdt\",\n",
        "    \"num_leaves\": 31,\n",
        "    \"learning_rate\": 0.05,\n",
        "    \"feature_fraction\": 0.9,\n",
        "    \"bagging_fraction\": 0.8,\n",
        "    \"bagging_freq\": 5,\n",
        "    \"verbose\": -1\n",
        "}\n",
        "\n",
        "model = lgb.train(\n",
        "    params,\n",
        "    train_data,\n",
        "    valid_sets=[train_data, test_data],\n",
        "    num_boost_round=1000,\n",
        "    callbacks=[lgb.early_stopping(stopping_rounds=50)]\n",
        ")\n",
        "\n",
        "# 📌 Step 7: Predictions\n",
        "y_pred = model.predict(X_test, num_iteration=model.best_iteration)\n",
        "\n",
        "# 📌 Step 8: Evaluation\n",
        "rmse = np.sqrt(mean_squared_error(y_test, y_pred))\n",
        "mae = mean_absolute_error(y_test, y_pred)\n",
        "r2 = r2_score(y_test, y_pred)\n",
        "\n",
        "print(f\"✅ RMSE: {rmse:.3f}\")\n",
        "print(f\"✅ MAE: {mae:.3f}\")\n",
        "print(f\"✅ R²: {r2:.3f}\")"
      ]
    },
    {
      "cell_type": "code",
      "source": [
        "# 📌 Step 9: Save model + feature schema\n",
        "joblib.dump(model, \"/content/drive/My Drive/yield_lightgbm.pkl\")\n",
        "joblib.dump(X_train.columns.tolist(), \"/content/drive/My Drive/feature_names.pkl\")\n",
        "print(\"✅ Model and feature schema saved!\")\n"
      ],
      "metadata": {
        "colab": {
          "base_uri": "https://localhost:8080/"
        },
        "id": "UDVFumpwuq-1",
        "outputId": "b1135488-c0e1-4d5f-82b6-922cbf57ad1e"
      },
      "execution_count": 15,
      "outputs": [
        {
          "output_type": "stream",
          "name": "stdout",
          "text": [
            "✅ Model and feature schema saved!\n"
          ]
        }
      ]
    },
    {
      "cell_type": "code",
      "source": [
        "import pandas as pd\n",
        "import joblib\n",
        "\n",
        "# 🔹 Load trained model + feature schema\n",
        "model = joblib.load(\"/content/drive/My Drive/yield_lightgbm.pkl\")\n",
        "feature_names = joblib.load(\"/content/drive/My Drive/feature_names.pkl\")\n",
        "\n",
        "def build_feature_vector(district, crop, season, soil, weather):\n",
        "    # Start with all zeros\n",
        "    input_data = pd.DataFrame([[0]*len(feature_names)], columns=feature_names)\n",
        "\n",
        "    # One-hot categorical features\n",
        "    for col in [f\"District_{district}\", f\"Crop_{crop}\", f\"Season_{season}\"]:\n",
        "        if col in input_data.columns:\n",
        "            input_data[col] = 1\n",
        "\n",
        "    # Soil features\n",
        "    if \"soil_ph\" in input_data.columns:\n",
        "        input_data[\"soil_ph\"] = soil[\"pH\"]\n",
        "    if \"soil_nitrogen\" in input_data.columns:\n",
        "        input_data[\"soil_nitrogen\"] = soil[\"N\"]\n",
        "    if \"soil_phosphorus\" in input_data.columns:\n",
        "        input_data[\"soil_phosphorus\"] = soil[\"P\"]\n",
        "    if \"soil_potassium\" in input_data.columns:\n",
        "        input_data[\"soil_potassium\"] = soil[\"K\"]\n",
        "    if \"soil_organic_carbon\" in input_data.columns:\n",
        "        input_data[\"soil_organic_carbon\"] = soil.get(\"OC\", 0)\n",
        "\n",
        "    # Weather features\n",
        "    if \"rainfall_total\" in input_data.columns:\n",
        "        input_data[\"rainfall_total\"] = weather[\"rainfall\"]\n",
        "    if \"avg_temp\" in input_data.columns:\n",
        "        input_data[\"avg_temp\"] = weather[\"temperature\"]\n",
        "\n",
        "    return input_data\n",
        "\n",
        "# 🔹 Example farmer input\n",
        "soil_data = {\"pH\": 6.4, \"N\": 40, \"P\": 28, \"K\": 220, \"OC\": 0.75}\n",
        "weather_data = {\"rainfall\": 640, \"temperature\": 27}\n",
        "\n",
        "fv = build_feature_vector(\"Nalgonda\", \"Rice\", \"Kharif\", soil_data, weather_data)\n",
        "\n",
        "# 🔹 Predict\n",
        "prediction = model.predict(fv)[0]\n",
        "\n",
        "print(\"🌾 Predicted Yield (quintal/ha):\", round(prediction, 2))\n"
      ],
      "metadata": {
        "colab": {
          "base_uri": "https://localhost:8080/"
        },
        "id": "vO4OC6H8yD_Q",
        "outputId": "552d3500-c24f-4605-e04f-91ea6cf44695"
      },
      "execution_count": 19,
      "outputs": [
        {
          "output_type": "stream",
          "name": "stdout",
          "text": [
            "🌾 Predicted Yield (quintal/ha): 2.2\n"
          ]
        }
      ]
    },
    {
      "cell_type": "code",
      "source": [],
      "metadata": {
        "id": "wfWRy0rhzZew"
      },
      "execution_count": null,
      "outputs": []
    }
  ]
}